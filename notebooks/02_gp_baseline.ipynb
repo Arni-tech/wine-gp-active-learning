{
 "cells": [
  {
   "cell_type": "markdown",
   "id": "22370324",
   "metadata": {},
   "source": [
    "###  Data Preprocessing Configuration\n",
    "\n",
    "- Features are standardized using `StandardScaler`\n",
    "- Quality scores are binned into 3 classes: Low (0), Medium (1), High (2)\n",
    "- Class imbalance is addressed using **SMOTE oversampling**\n",
    "- Train/test split is stratified\n"
   ]
  },
  {
   "cell_type": "code",
   "execution_count": 4,
   "id": "41c25e44",
   "metadata": {},
   "outputs": [],
   "source": [
    "import numpy as np\n",
    "import pandas as pd\n",
    "import seaborn as sns\n",
    "import matplotlib.pyplot as plt\n",
    "\n",
    "from sklearn.gaussian_process import GaussianProcessClassifier\n",
    "from sklearn.gaussian_process.kernels import RBF, Matern, DotProduct, RationalQuadratic\n",
    "from sklearn.metrics import accuracy_score, f1_score, ConfusionMatrixDisplay\n",
    "\n",
    "from collections import Counter\n",
    "from src.preprocessing import load_and_preprocess_data\n"
   ]
  },
  {
   "cell_type": "code",
   "execution_count": 5,
   "id": "75ef285e",
   "metadata": {},
   "outputs": [
    {
     "name": "stdout",
     "output_type": "stream",
     "text": [
      "Training set class distribution: Counter({0: 595, 1: 510, 2: 174})\n",
      "Test set class distribution: Counter({0: 149, 1: 128, 2: 43})\n"
     ]
    },
    {
     "data": {
      "image/png": "[encoded data removed]",
      "text/plain": [
       "<Figure size 640x480 with 1 Axes>"
      ]
     },
     "metadata": {},
     "output_type": "display_data"
    }
   ],
   "source": [
    "X_train, X_test, y_train, y_test = load_and_preprocess_data()\n",
    "\n",
    "print(\"Training set class distribution:\", Counter(y_train))\n",
    "print(\"Test set class distribution:\", Counter(y_test))\n",
    "\n",
    "sns.countplot(x=y_train)\n",
    "plt.title(\"Class Distribution After Resampling (Training Set)\")\n",
    "plt.xlabel(\"Quality Label\")\n",
    "plt.ylabel(\"Count\")\n",
    "plt.show()\n"
   ]
  },
  {
   "cell_type": "code",
   "execution_count": 6,
   "id": "740a8020",
   "metadata": {},
   "outputs": [
    {
     "name": "stdout",
     "output_type": "stream",
     "text": [
      "Training with RBF kernel...\n"
     ]
    },
    {
     "name": "stderr",
     "output_type": "stream",
     "text": [
      "C:\\Users\\negia\\anaconda3\\envs\\comp_7703\\Lib\\site-packages\\sklearn\\gaussian_process\\kernels.py:452: ConvergenceWarning: The optimal value found for dimension 0 of parameter length_scale is close to the specified upper bound 100000.0. Increasing the bound and calling fit again may find a better value.\n",
      "  warnings.warn(\n"
     ]
    },
    {
     "name": "stdout",
     "output_type": "stream",
     "text": [
      "Training with RationalQuadratic kernel...\n"
     ]
    },
    {
     "name": "stderr",
     "output_type": "stream",
     "text": [
      "C:\\Users\\negia\\anaconda3\\envs\\comp_7703\\Lib\\site-packages\\sklearn\\gaussian_process\\kernels.py:452: ConvergenceWarning: The optimal value found for dimension 0 of parameter alpha is close to the specified upper bound 100000.0. Increasing the bound and calling fit again may find a better value.\n",
      "  warnings.warn(\n"
     ]
    },
    {
     "name": "stdout",
     "output_type": "stream",
     "text": [
      "Training with Matern kernel...\n",
      "Training with DotProduct kernel...\n"
     ]
    }
   ],
   "source": [
    "kernels = {\n",
    "    \"RBF\": RBF(length_scale=1.0),\n",
    "    \"RationalQuadratic\": RationalQuadratic(alpha=1.0, length_scale=1.0),\n",
    "    \"Matern\": Matern(length_scale=1.0, nu=1.5),\n",
    "    \"DotProduct\": DotProduct()\n",
    "}\n",
    "\n",
    "results = []\n",
    "\n",
    "for name, kernel in kernels.items():\n",
    "    print(f\"Training with {name} kernel...\")\n",
    "    gp = GaussianProcessClassifier(kernel=kernel, random_state=42, max_iter_predict=100)\n",
    "    gp.fit(X_train, y_train)\n",
    "\n",
    "    y_pred = gp.predict(X_test)\n",
    "    acc = accuracy_score(y_test, y_pred)\n",
    "    f1 = f1_score(y_test, y_pred, average='macro')\n",
    "    \n",
    "    results.append((name, acc, f1))\n"
   ]
  },
  {
   "cell_type": "code",
   "execution_count": 7,
   "id": "5e0b5b59",
   "metadata": {},
   "outputs": [
    {
     "data": {
      "text/html": [
       "<div>\n",
       "<style scoped>\n",
       "    .dataframe tbody tr th:only-of-type {\n",
       "        vertical-align: middle;\n",
       "    }\n",
       "\n",
       "    .dataframe tbody tr th {\n",
       "        vertical-align: top;\n",
       "    }\n",
       "\n",
       "    .dataframe thead th {\n",
       "        text-align: right;\n",
       "    }\n",
       "</style>\n",
       "<table border=\"1\" class=\"dataframe\">\n",
       "  <thead>\n",
       "    <tr style=\"text-align: right;\">\n",
       "      <th></th>\n",
       "      <th>Kernel</th>\n",
       "      <th>Accuracy</th>\n",
       "      <th>F1 Score</th>\n",
       "    </tr>\n",
       "  </thead>\n",
       "  <tbody>\n",
       "    <tr>\n",
       "      <th>0</th>\n",
       "      <td>RationalQuadratic</td>\n",
       "      <td>0.665625</td>\n",
       "      <td>0.612493</td>\n",
       "    </tr>\n",
       "    <tr>\n",
       "      <th>1</th>\n",
       "      <td>Matern</td>\n",
       "      <td>0.662500</td>\n",
       "      <td>0.605134</td>\n",
       "    </tr>\n",
       "    <tr>\n",
       "      <th>2</th>\n",
       "      <td>DotProduct</td>\n",
       "      <td>0.628125</td>\n",
       "      <td>0.537909</td>\n",
       "    </tr>\n",
       "    <tr>\n",
       "      <th>3</th>\n",
       "      <td>RBF</td>\n",
       "      <td>0.634375</td>\n",
       "      <td>0.449607</td>\n",
       "    </tr>\n",
       "  </tbody>\n",
       "</table>\n",
       "</div>"
      ],
      "text/plain": [
       "              Kernel  Accuracy  F1 Score\n",
       "0  RationalQuadratic  0.665625  0.612493\n",
       "1             Matern  0.662500  0.605134\n",
       "2         DotProduct  0.628125  0.537909\n",
       "3                RBF  0.634375  0.449607"
      ]
     },
     "execution_count": 7,
     "metadata": {},
     "output_type": "execute_result"
    }
   ],
   "source": [
    "df_results = pd.DataFrame(results, columns=[\"Kernel\", \"Accuracy\", \"F1 Score\"])\n",
    "df_results.sort_values(\"F1 Score\", ascending=False).reset_index(drop=True)\n"
   ]
  },
  {
   "cell_type": "markdown",
   "id": "fda1d0c3",
   "metadata": {},
   "source": [
    "#### Summary\n",
    "\n",
    "- Best kernel: **RationalQuadratic**\n",
    "- Accuracy: **0.666**\n",
    "- Macro F1 Score: **0.612**\n",
    "- This kernel handles long-range and short-range variations well, which makes sense for a dataset like wine chemistry.\n",
    "➡️ Next: Tune `length_scale` and `alpha` hyperparameters for RationalQuadratic.\n"
   ]
  },
  {
   "cell_type": "code",
   "execution_count": 8,
   "id": "bc0812dc",
   "metadata": {},
   "outputs": [
    {
     "name": "stderr",
     "output_type": "stream",
     "text": [
      "C:\\Users\\negia\\anaconda3\\envs\\comp_7703\\Lib\\site-packages\\sklearn\\gaussian_process\\kernels.py:452: ConvergenceWarning: The optimal value found for dimension 0 of parameter alpha is close to the specified upper bound 100000.0. Increasing the bound and calling fit again may find a better value.\n",
      "  warnings.warn(\n",
      "C:\\Users\\negia\\anaconda3\\envs\\comp_7703\\Lib\\site-packages\\sklearn\\gaussian_process\\kernels.py:452: ConvergenceWarning: The optimal value found for dimension 0 of parameter alpha is close to the specified upper bound 100000.0. Increasing the bound and calling fit again may find a better value.\n",
      "  warnings.warn(\n",
      "C:\\Users\\negia\\anaconda3\\envs\\comp_7703\\Lib\\site-packages\\sklearn\\gaussian_process\\kernels.py:452: ConvergenceWarning: The optimal value found for dimension 0 of parameter alpha is close to the specified upper bound 100000.0. Increasing the bound and calling fit again may find a better value.\n",
      "  warnings.warn(\n",
      "C:\\Users\\negia\\anaconda3\\envs\\comp_7703\\Lib\\site-packages\\sklearn\\gaussian_process\\kernels.py:442: ConvergenceWarning: The optimal value found for dimension 0 of parameter alpha is close to the specified lower bound 1e-05. Decreasing the bound and calling fit again may find a better value.\n",
      "  warnings.warn(\n",
      "C:\\Users\\negia\\anaconda3\\envs\\comp_7703\\Lib\\site-packages\\sklearn\\gaussian_process\\kernels.py:452: ConvergenceWarning: The optimal value found for dimension 0 of parameter length_scale is close to the specified upper bound 100000.0. Increasing the bound and calling fit again may find a better value.\n",
      "  warnings.warn(\n",
      "C:\\Users\\negia\\anaconda3\\envs\\comp_7703\\Lib\\site-packages\\sklearn\\gaussian_process\\kernels.py:452: ConvergenceWarning: The optimal value found for dimension 0 of parameter alpha is close to the specified upper bound 100000.0. Increasing the bound and calling fit again may find a better value.\n",
      "  warnings.warn(\n",
      "C:\\Users\\negia\\anaconda3\\envs\\comp_7703\\Lib\\site-packages\\sklearn\\gaussian_process\\kernels.py:452: ConvergenceWarning: The optimal value found for dimension 0 of parameter alpha is close to the specified upper bound 100000.0. Increasing the bound and calling fit again may find a better value.\n",
      "  warnings.warn(\n",
      "C:\\Users\\negia\\anaconda3\\envs\\comp_7703\\Lib\\site-packages\\sklearn\\gaussian_process\\kernels.py:452: ConvergenceWarning: The optimal value found for dimension 0 of parameter alpha is close to the specified upper bound 100000.0. Increasing the bound and calling fit again may find a better value.\n",
      "  warnings.warn(\n",
      "C:\\Users\\negia\\anaconda3\\envs\\comp_7703\\Lib\\site-packages\\sklearn\\gaussian_process\\kernels.py:452: ConvergenceWarning: The optimal value found for dimension 0 of parameter alpha is close to the specified upper bound 100000.0. Increasing the bound and calling fit again may find a better value.\n",
      "  warnings.warn(\n",
      "C:\\Users\\negia\\anaconda3\\envs\\comp_7703\\Lib\\site-packages\\sklearn\\gaussian_process\\kernels.py:452: ConvergenceWarning: The optimal value found for dimension 0 of parameter alpha is close to the specified upper bound 100000.0. Increasing the bound and calling fit again may find a better value.\n",
      "  warnings.warn(\n",
      "C:\\Users\\negia\\anaconda3\\envs\\comp_7703\\Lib\\site-packages\\sklearn\\gaussian_process\\kernels.py:452: ConvergenceWarning: The optimal value found for dimension 0 of parameter alpha is close to the specified upper bound 100000.0. Increasing the bound and calling fit again may find a better value.\n",
      "  warnings.warn(\n",
      "C:\\Users\\negia\\anaconda3\\envs\\comp_7703\\Lib\\site-packages\\sklearn\\gaussian_process\\kernels.py:452: ConvergenceWarning: The optimal value found for dimension 0 of parameter alpha is close to the specified upper bound 100000.0. Increasing the bound and calling fit again may find a better value.\n",
      "  warnings.warn(\n",
      "C:\\Users\\negia\\anaconda3\\envs\\comp_7703\\Lib\\site-packages\\sklearn\\gaussian_process\\kernels.py:452: ConvergenceWarning: The optimal value found for dimension 0 of parameter alpha is close to the specified upper bound 100000.0. Increasing the bound and calling fit again may find a better value.\n",
      "  warnings.warn(\n",
      "C:\\Users\\negia\\anaconda3\\envs\\comp_7703\\Lib\\site-packages\\sklearn\\gaussian_process\\kernels.py:452: ConvergenceWarning: The optimal value found for dimension 0 of parameter alpha is close to the specified upper bound 100000.0. Increasing the bound and calling fit again may find a better value.\n",
      "  warnings.warn(\n",
      "C:\\Users\\negia\\anaconda3\\envs\\comp_7703\\Lib\\site-packages\\sklearn\\gaussian_process\\kernels.py:452: ConvergenceWarning: The optimal value found for dimension 0 of parameter alpha is close to the specified upper bound 100000.0. Increasing the bound and calling fit again may find a better value.\n",
      "  warnings.warn(\n"
     ]
    },
    {
     "data": {
      "text/html": [
       "<div>\n",
       "<style scoped>\n",
       "    .dataframe tbody tr th:only-of-type {\n",
       "        vertical-align: middle;\n",
       "    }\n",
       "\n",
       "    .dataframe tbody tr th {\n",
       "        vertical-align: top;\n",
       "    }\n",
       "\n",
       "    .dataframe thead th {\n",
       "        text-align: right;\n",
       "    }\n",
       "</style>\n",
       "<table border=\"1\" class=\"dataframe\">\n",
       "  <thead>\n",
       "    <tr style=\"text-align: right;\">\n",
       "      <th></th>\n",
       "      <th>Length Scale</th>\n",
       "      <th>Alpha</th>\n",
       "      <th>Accuracy</th>\n",
       "      <th>F1 Score</th>\n",
       "    </tr>\n",
       "  </thead>\n",
       "  <tbody>\n",
       "    <tr>\n",
       "      <th>0</th>\n",
       "      <td>2.0</td>\n",
       "      <td>0.1</td>\n",
       "      <td>0.675000</td>\n",
       "      <td>0.633691</td>\n",
       "    </tr>\n",
       "    <tr>\n",
       "      <th>1</th>\n",
       "      <td>0.5</td>\n",
       "      <td>0.1</td>\n",
       "      <td>0.665625</td>\n",
       "      <td>0.612493</td>\n",
       "    </tr>\n",
       "    <tr>\n",
       "      <th>2</th>\n",
       "      <td>1.0</td>\n",
       "      <td>0.1</td>\n",
       "      <td>0.665625</td>\n",
       "      <td>0.612493</td>\n",
       "    </tr>\n",
       "    <tr>\n",
       "      <th>3</th>\n",
       "      <td>0.5</td>\n",
       "      <td>1.0</td>\n",
       "      <td>0.665625</td>\n",
       "      <td>0.612493</td>\n",
       "    </tr>\n",
       "    <tr>\n",
       "      <th>4</th>\n",
       "      <td>1.5</td>\n",
       "      <td>1.0</td>\n",
       "      <td>0.665625</td>\n",
       "      <td>0.612493</td>\n",
       "    </tr>\n",
       "    <tr>\n",
       "      <th>5</th>\n",
       "      <td>1.0</td>\n",
       "      <td>1.0</td>\n",
       "      <td>0.665625</td>\n",
       "      <td>0.612493</td>\n",
       "    </tr>\n",
       "    <tr>\n",
       "      <th>6</th>\n",
       "      <td>1.5</td>\n",
       "      <td>0.1</td>\n",
       "      <td>0.665625</td>\n",
       "      <td>0.612493</td>\n",
       "    </tr>\n",
       "    <tr>\n",
       "      <th>7</th>\n",
       "      <td>1.0</td>\n",
       "      <td>2.0</td>\n",
       "      <td>0.665625</td>\n",
       "      <td>0.612493</td>\n",
       "    </tr>\n",
       "    <tr>\n",
       "      <th>8</th>\n",
       "      <td>2.0</td>\n",
       "      <td>1.0</td>\n",
       "      <td>0.665625</td>\n",
       "      <td>0.612493</td>\n",
       "    </tr>\n",
       "    <tr>\n",
       "      <th>9</th>\n",
       "      <td>1.5</td>\n",
       "      <td>2.0</td>\n",
       "      <td>0.665625</td>\n",
       "      <td>0.612493</td>\n",
       "    </tr>\n",
       "    <tr>\n",
       "      <th>10</th>\n",
       "      <td>2.0</td>\n",
       "      <td>2.0</td>\n",
       "      <td>0.665625</td>\n",
       "      <td>0.612493</td>\n",
       "    </tr>\n",
       "    <tr>\n",
       "      <th>11</th>\n",
       "      <td>0.5</td>\n",
       "      <td>2.0</td>\n",
       "      <td>0.634375</td>\n",
       "      <td>0.447435</td>\n",
       "    </tr>\n",
       "  </tbody>\n",
       "</table>\n",
       "</div>"
      ],
      "text/plain": [
       "    Length Scale  Alpha  Accuracy  F1 Score\n",
       "0            2.0    0.1  0.675000  0.633691\n",
       "1            0.5    0.1  0.665625  0.612493\n",
       "2            1.0    0.1  0.665625  0.612493\n",
       "3            0.5    1.0  0.665625  0.612493\n",
       "4            1.5    1.0  0.665625  0.612493\n",
       "5            1.0    1.0  0.665625  0.612493\n",
       "6            1.5    0.1  0.665625  0.612493\n",
       "7            1.0    2.0  0.665625  0.612493\n",
       "8            2.0    1.0  0.665625  0.612493\n",
       "9            1.5    2.0  0.665625  0.612493\n",
       "10           2.0    2.0  0.665625  0.612493\n",
       "11           0.5    2.0  0.634375  0.447435"
      ]
     },
     "execution_count": 8,
     "metadata": {},
     "output_type": "execute_result"
    }
   ],
   "source": [
    "# Hyperparameter tuning for RationalQuadratic kernel\n",
    "length_scales = [0.5, 1.0, 1.5, 2.0]\n",
    "alphas = [0.1, 1.0, 2.0]\n",
    "\n",
    "tuning_results = []\n",
    "\n",
    "for ls in length_scales:\n",
    "    for alpha in alphas:\n",
    "        kernel = RationalQuadratic(alpha=alpha, length_scale=ls)\n",
    "        gp = GaussianProcessClassifier(kernel=kernel, random_state=42)\n",
    "        gp.fit(X_train, y_train)\n",
    "        y_pred = gp.predict(X_test)\n",
    "        acc = accuracy_score(y_test, y_pred)\n",
    "        f1 = f1_score(y_test, y_pred, average='macro')\n",
    "        tuning_results.append((ls, alpha, acc, f1))\n",
    "\n",
    "df_tuned = pd.DataFrame(tuning_results, columns=[\"Length Scale\", \"Alpha\", \"Accuracy\", \"F1 Score\"])\n",
    "df_tuned.sort_values(\"F1 Score\", ascending=False).reset_index(drop=True)\n"
   ]
  },
  {
   "cell_type": "code",
   "execution_count": null,
   "id": "c5713a57",
   "metadata": {},
   "outputs": [],
   "source": []
  }
 ],
 "metadata": {
  "kernelspec": {
   "display_name": "Python 3 (ipykernel)",
   "language": "python",
   "name": "python3"
  },
  "language_info": {
   "codemirror_mode": {
    "name": "ipython",
    "version": 3
   },
   "file_extension": ".py",
   "mimetype": "text/x-python",
   "name": "python",
   "nbconvert_exporter": "python",
   "pygments_lexer": "ipython3",
   "version": "3.12.9"
  }
 },
 "nbformat": 4,
 "nbformat_minor": 5
}
